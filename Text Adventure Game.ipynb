{
 "cells": [
  {
   "cell_type": "code",
   "execution_count": null,
   "id": "97baab59",
   "metadata": {},
   "outputs": [],
   "source": []
  },
  {
   "cell_type": "code",
   "execution_count": 2,
   "id": "bb07a7f8",
   "metadata": {},
   "outputs": [],
   "source": [
    "def start():\n",
    "    \n",
    "    print(\"\\nYou were camping in the forest on a beautiful summer night until it started raining and \\nlightnings started to rumble!\")\n",
    "    print(\"\\nYou made your way into a cave that was so dark, you couldn't see anything...\")\n",
    "    \n",
    "    match_or_flashlight = input(\"\\nChoose whether to light a match or a flashlight: match/flashlight \").lower()\n",
    "    \n",
    "    if match_or_flashlight == \"match\":\n",
    "        game_over(\"The cave blew up!\")\n",
    "    elif match_or_flashlight == \"flashlight\":\n",
    "        part_one()\n",
    "    else:\n",
    "        game_over(\"Learn how to write bitch!\")"
   ]
  },
  {
   "cell_type": "code",
   "execution_count": 3,
   "id": "33412c84",
   "metadata": {},
   "outputs": [],
   "source": [
    "def part_one():\n",
    "    \n",
    "    print(\"\\nGreat job! \\nNow you can see something. When going deeper into the cave you encounter two routes...\")\n",
    "    left_or_right = input(\"\\nChoose left or right from the two routes, left is slimy and the right is full of bats: \").lower()\n",
    "    if left_or_right == \"left\": \n",
    "        creature_room()\n",
    "    elif left_or_right == \"right\":\n",
    "        bat_attack_room()\n",
    "    else: \n",
    "        game_over(\"Come on try to write correctly!\")\n",
    "    "
   ]
  },
  {
   "cell_type": "code",
   "execution_count": 4,
   "id": "5666e386",
   "metadata": {},
   "outputs": [],
   "source": [
    "def creature_room():\n",
    "    print(\"\\nYou have entered the home of a big slimy creature that is ready to eat you in a heartbeat!\")\n",
    "    \n",
    "    feed_or_getfed = input(\"\\nYou have the chance to sacrifice your leg by cutting a piece of it or try to run away: choose leg or run\").lower()\n",
    "    if feed_or_getfed == \"leg\":\n",
    "        print(\"\\nGreat job the creature started munching your leg as you escaped!\")\n",
    "        escape_room()\n",
    "    elif feed_or_getfed == \"run\":\n",
    "        game_over(\"The creature blocked you from escaping and ate you!\")\n",
    "    else:\n",
    "        game_over(\"You didn't give the correct info!!\")\n",
    "    \n",
    "    \n",
    "    "
   ]
  },
  {
   "cell_type": "code",
   "execution_count": 5,
   "id": "cf3dbc89",
   "metadata": {},
   "outputs": [],
   "source": [
    "def bat_attack_room():\n",
    "    print(\"\\nYou have entered the home of 100 bats and they are ready to attack you in a heartbeat!!\")\n",
    "    \n",
    "    bat_or_cap = input(\"\\nThe bats have started to fly towards you! You can run or light a match, CHOOSE: run/match\").lower()\n",
    "    if bat_or_cap == \"match\":\n",
    "        print(\"Great job you blew the bats up!!\")\n",
    "        escape_room()\n",
    "    elif bat_or_cap == \"run\":\n",
    "        game_over(\"Come on do you think you can actually out-run bats!?\")\n",
    "    else:\n",
    "        game_over(\"Incorrect input!\")\n",
    "        \n",
    "\n",
    "    \n",
    "    "
   ]
  },
  {
   "cell_type": "code",
   "execution_count": 6,
   "id": "1259a0e5",
   "metadata": {},
   "outputs": [],
   "source": [
    "def escape_room():\n",
    "    \n",
    "    print(\"\\nTHERE IS AN EXIT RIGHT INFRON OF YOU! Only problem is that it is as high as 10 meters!\")\n",
    "    \n",
    "    climb_or_throw = input(\"\\nAre you going to climb on the rock wall or do you throw a rope attached to a stick?: throw/climb\").lower()\n",
    "    \n",
    "    if climb_or_throw == \"climb\":\n",
    "        game_over(\"You almost made it but a rock crumbled and send you down form 8 meters\")\n",
    "    elif climb_or_throw == \"throw\":\n",
    "        print(\"GREAT JOB YOU MADE IT OUT\")\n",
    "        play_again()\n",
    "    else:\n",
    "        game_over(\"incorrect input\")\n",
    "    \n",
    "    "
   ]
  },
  {
   "cell_type": "code",
   "execution_count": 7,
   "id": "dc0f3ac3",
   "metadata": {},
   "outputs": [],
   "source": [
    "def play_again():\n",
    "    \n",
    "    y_n = input(\"Play again?: y/n\")\n",
    "    \n",
    "    if y_n == \"y\":\n",
    "        start()\n",
    "    else: \n",
    "        game_on = False\n",
    "    \n",
    "    "
   ]
  },
  {
   "cell_type": "code",
   "execution_count": 8,
   "id": "b934b0c8",
   "metadata": {},
   "outputs": [],
   "source": [
    "def game_over(reason):\n",
    "    \n",
    "    print(\"\\n\" + reason)\n",
    "    play_again()\n",
    "    "
   ]
  },
  {
   "cell_type": "code",
   "execution_count": 11,
   "id": "7903f90f",
   "metadata": {},
   "outputs": [],
   "source": [
    "def game():\n",
    "    \n",
    "    print(\"Welcome to the Adventure Game! Get ready!!\")\n",
    "\n",
    "    play_again()\n"
   ]
  },
  {
   "cell_type": "code",
   "execution_count": 12,
   "id": "2396afe2",
   "metadata": {},
   "outputs": [
    {
     "name": "stdout",
     "output_type": "stream",
     "text": [
      "Welcome to the Adventure Game! Get ready!!\n",
      "Play again?: y/nn\n"
     ]
    }
   ],
   "source": [
    "game()\n",
    "\n"
   ]
  },
  {
   "cell_type": "code",
   "execution_count": null,
   "id": "04a1c099",
   "metadata": {},
   "outputs": [],
   "source": []
  }
 ],
 "metadata": {
  "kernelspec": {
   "display_name": "Python 3",
   "language": "python",
   "name": "python3"
  },
  "language_info": {
   "codemirror_mode": {
    "name": "ipython",
    "version": 3
   },
   "file_extension": ".py",
   "mimetype": "text/x-python",
   "name": "python",
   "nbconvert_exporter": "python",
   "pygments_lexer": "ipython3",
   "version": "3.8.8"
  }
 },
 "nbformat": 4,
 "nbformat_minor": 5
}
